{
 "cells": [
  {
   "cell_type": "code",
   "execution_count": 38,
   "id": "41967e28",
   "metadata": {},
   "outputs": [],
   "source": [
    "import pandas as pd\n",
    "import numpy as np\n",
    "import datetime"
   ]
  },
  {
   "cell_type": "code",
   "execution_count": 39,
   "id": "4b1429b3-d010-452d-9c9c-bb5f4256b78d",
   "metadata": {},
   "outputs": [],
   "source": [
    "chunk_size = 1000  # 设置每次读取的行数\n",
    "dataframes = pd.read_csv('data/数据ALL_修订.csv', chunksize=chunk_size)\n",
    "\n",
    "df = pd.concat(dataframes)"
   ]
  },
  {
   "cell_type": "code",
   "execution_count": 175,
   "id": "ebae716d",
   "metadata": {},
   "outputs": [],
   "source": [
    "# df = pd.read_excel(\"数据ALL_修订.xlsx\")"
   ]
  },
  {
   "cell_type": "code",
   "execution_count": 40,
   "id": "a8a54cc4",
   "metadata": {},
   "outputs": [],
   "source": [
    "#删去“历年累计产气量”为0的日期记录 \n",
    "df_1 = df[df.历年累计产气量>0]"
   ]
  },
  {
   "cell_type": "code",
   "execution_count": 41,
   "id": "6bd4125c-6524-4650-8ae9-d8e0bca2d194",
   "metadata": {},
   "outputs": [
    {
     "name": "stderr",
     "output_type": "stream",
     "text": [
      "C:\\Users\\Admin\\AppData\\Local\\Temp\\ipykernel_18792\\3473603062.py:1: SettingWithCopyWarning: \n",
      "A value is trying to be set on a copy of a slice from a DataFrame.\n",
      "Try using .loc[row_indexer,col_indexer] = value instead\n",
      "\n",
      "See the caveats in the documentation: https://pandas.pydata.org/pandas-docs/stable/user_guide/indexing.html#returning-a-view-versus-a-copy\n",
      "  df_1['日期'] = pd.to_datetime(df_1['日期'])\n"
     ]
    }
   ],
   "source": [
    "df_1['日期'] = pd.to_datetime(df_1['日期'])  "
   ]
  },
  {
   "cell_type": "code",
   "execution_count": 42,
   "id": "6c898b79",
   "metadata": {},
   "outputs": [],
   "source": [
    "#对每口井进行重新编号\n",
    "jinghao  = np.unique(df_1.井号)\n",
    "df_sorted = df_1.sort_values(by=['井号', '日期'])\n",
    "\n",
    "for i in jinghao:\n",
    "    df_sorted.loc[df_sorted.井号==i,'生产天数'] = list(range(1,len(df_sorted[df_sorted.井号==i].生产天数)+1))\n",
    "\n",
    "df_sorted.to_csv('data/生产日期重新编号数据.csv', index=False) "
   ]
  },
  {
   "cell_type": "code",
   "execution_count": 43,
   "id": "7457c842-4e18-4858-8e52-451dfa53142f",
   "metadata": {},
   "outputs": [],
   "source": [
    "# 按照 井号 列分组并获取 生产天数 列的最大值\n",
    "grouped = df_sorted.groupby('井号')['生产天数'].max()"
   ]
  },
  {
   "cell_type": "code",
   "execution_count": 44,
   "id": "0062be45-3239-4f6b-b14e-a520f0ce319c",
   "metadata": {},
   "outputs": [
    {
     "data": {
      "text/plain": [
       "3138"
      ]
     },
     "execution_count": 44,
     "metadata": {},
     "output_type": "execute_result"
    }
   ],
   "source": [
    "#grouped[grouped == min(grouped)]\n",
    "max(grouped)"
   ]
  },
  {
   "cell_type": "code",
   "execution_count": 45,
   "id": "ee894c59",
   "metadata": {},
   "outputs": [
    {
     "name": "stderr",
     "output_type": "stream",
     "text": [
      "C:\\Users\\Admin\\AppData\\Local\\Temp\\ipykernel_18792\\4257020078.py:14: SettingWithCopyWarning: \n",
      "A value is trying to be set on a copy of a slice from a DataFrame.\n",
      "Try using .loc[row_indexer,col_indexer] = value instead\n",
      "\n",
      "See the caveats in the documentation: https://pandas.pydata.org/pandas-docs/stable/user_guide/indexing.html#returning-a-view-versus-a-copy\n",
      "  df_0101['排名'] = None\n"
     ]
    }
   ],
   "source": [
    "#计算第一年一季度生产排名并保存excel\n",
    "start_date = 1\n",
    "end_date = start_date+89\n",
    "\n",
    "# 获取最大值大于end_date的井号\n",
    "hashtags = grouped[grouped >= end_date].index.tolist()\n",
    "# 获取原始DataFrame中包含在hashtags中的所有数据  \n",
    "filtered_df = df_sorted[df_sorted['井号'].isin(hashtags)]  \n",
    "\n",
    "\n",
    "df_3 = filtered_df[(filtered_df['生产天数'] <= end_date)]\n",
    "\n",
    "df_0101 = df_3\n",
    "df_0101['排名'] = None\n",
    "\n",
    "for i in range(1, end_date+1) :        \n",
    "    df_cl = df_0101[df_0101.生产天数==i]\n",
    "    pm = df_cl['历年累计产气量'].rank(method='first',ascending=False)\n",
    "    df_0101.loc[(df_0101['生产天数'] == i) & (df_0101['井号'].isin(df_cl.井号)),'排名'] = pm\n",
    "df_0101.to_csv('data/第一年一季度生产情况.csv', index=False) "
   ]
  },
  {
   "cell_type": "code",
   "execution_count": 46,
   "id": "3d532b7d",
   "metadata": {},
   "outputs": [
    {
     "name": "stderr",
     "output_type": "stream",
     "text": [
      "C:\\Users\\Admin\\AppData\\Local\\Temp\\ipykernel_18792\\1484162951.py:14: SettingWithCopyWarning: \n",
      "A value is trying to be set on a copy of a slice from a DataFrame.\n",
      "Try using .loc[row_indexer,col_indexer] = value instead\n",
      "\n",
      "See the caveats in the documentation: https://pandas.pydata.org/pandas-docs/stable/user_guide/indexing.html#returning-a-view-versus-a-copy\n",
      "  df_0102['排名'] = None\n"
     ]
    }
   ],
   "source": [
    "#计算第一年二季度生产排名并保存excel\n",
    "start_date = 90*1+1\n",
    "end_date = start_date+89\n",
    "\n",
    "# 获取最大值大于end_date的井号\n",
    "hashtags = grouped[grouped >= end_date].index.tolist()\n",
    "# 获取原始DataFrame中包含在hashtags中的所有数据  \n",
    "filtered_df = df_sorted[df_sorted['井号'].isin(hashtags)]  \n",
    "\n",
    "\n",
    "df_3 = filtered_df[(filtered_df['生产天数'] <= end_date)]\n",
    "\n",
    "df_0102 = df_3\n",
    "df_0102['排名'] = None\n",
    "\n",
    "for i in range(1, end_date+1) :        \n",
    "    df_cl = df_0102[df_0102.生产天数==i]\n",
    "    pm = df_cl['历年累计产气量'].rank(method='first',ascending=False)\n",
    "    df_0102.loc[(df_0102['生产天数'] == i) & (df_0102['井号'].isin(df_cl.井号)),'排名'] = pm\n",
    "df_0102.to_csv('data/第一年二季度生产情况.csv', index=False) "
   ]
  },
  {
   "cell_type": "code",
   "execution_count": 47,
   "id": "bcd1c1fe",
   "metadata": {},
   "outputs": [
    {
     "name": "stderr",
     "output_type": "stream",
     "text": [
      "C:\\Users\\Admin\\AppData\\Local\\Temp\\ipykernel_18792\\997740910.py:14: SettingWithCopyWarning: \n",
      "A value is trying to be set on a copy of a slice from a DataFrame.\n",
      "Try using .loc[row_indexer,col_indexer] = value instead\n",
      "\n",
      "See the caveats in the documentation: https://pandas.pydata.org/pandas-docs/stable/user_guide/indexing.html#returning-a-view-versus-a-copy\n",
      "  df_0103['排名'] = None\n"
     ]
    }
   ],
   "source": [
    "#计算第一年第三季度生产排名并保存excel\n",
    "start_date = 90*2+1\n",
    "end_date = start_date+89\n",
    "\n",
    "# 获取最大值大于end_date的井号\n",
    "hashtags = grouped[grouped >= end_date].index.tolist()\n",
    "# 获取原始DataFrame中包含在hashtags中的所有数据  \n",
    "filtered_df = df_sorted[df_sorted['井号'].isin(hashtags)]  \n",
    "\n",
    "\n",
    "df_3 = filtered_df[(filtered_df['生产天数'] <= end_date)]\n",
    "\n",
    "df_0103 = df_3\n",
    "df_0103['排名'] = None\n",
    "\n",
    "for i in range(1,end_date+1) :        \n",
    "    df_cl = df_0103[df_0103.生产天数==i]\n",
    "    pm = df_cl['历年累计产气量'].rank(method='first',ascending=False)\n",
    "    df_0103.loc[(df_0103['生产天数'] == i) & (df_0103['井号'].isin(df_cl.井号)),'排名'] = pm\n",
    "df_0103.to_csv('data/第一年三季度生产情况.csv', index=False) "
   ]
  },
  {
   "cell_type": "code",
   "execution_count": 48,
   "id": "d0c880e5",
   "metadata": {},
   "outputs": [
    {
     "name": "stderr",
     "output_type": "stream",
     "text": [
      "C:\\Users\\Admin\\AppData\\Local\\Temp\\ipykernel_18792\\138058569.py:15: SettingWithCopyWarning: \n",
      "A value is trying to be set on a copy of a slice from a DataFrame.\n",
      "Try using .loc[row_indexer,col_indexer] = value instead\n",
      "\n",
      "See the caveats in the documentation: https://pandas.pydata.org/pandas-docs/stable/user_guide/indexing.html#returning-a-view-versus-a-copy\n",
      "  df_0104['排名'] = None\n"
     ]
    }
   ],
   "source": [
    "#计算第一年第四季度生产排名并保存excel\n",
    "start_date = 90*3+1\n",
    "end_date = 365\n",
    "\n",
    "# 获取最大值大于end_date的井号\n",
    "hashtags = grouped[grouped >= end_date].index.tolist()\n",
    "# 获取原始DataFrame中包含在hashtags中的所有数据  \n",
    "filtered_df = df_sorted[df_sorted['井号'].isin(hashtags)]  \n",
    "\n",
    "\n",
    "df_3 = filtered_df[(filtered_df['生产天数'] <= end_date)]\n",
    "\n",
    "\n",
    "df_0104 = df_3\n",
    "df_0104['排名'] = None\n",
    "\n",
    "for i in range(1,end_date+1) :        \n",
    "    df_cl = df_0104[df_0104.生产天数==i]\n",
    "    pm = df_cl['历年累计产气量'].rank(method='first',ascending=False)\n",
    "    df_0104.loc[(df_0104['生产天数'] == i) & (df_0104['井号'].isin(df_cl.井号)),'排名'] = pm\n",
    "df_0104.to_csv('data/第一年四季度生产情况.csv', index=False) "
   ]
  },
  {
   "cell_type": "code",
   "execution_count": 49,
   "id": "bdfcf601",
   "metadata": {},
   "outputs": [
    {
     "name": "stderr",
     "output_type": "stream",
     "text": [
      "C:\\Users\\Admin\\AppData\\Local\\Temp\\ipykernel_18792\\1204545301.py:14: SettingWithCopyWarning: \n",
      "A value is trying to be set on a copy of a slice from a DataFrame.\n",
      "Try using .loc[row_indexer,col_indexer] = value instead\n",
      "\n",
      "See the caveats in the documentation: https://pandas.pydata.org/pandas-docs/stable/user_guide/indexing.html#returning-a-view-versus-a-copy\n",
      "  df_0201['排名'] = None\n"
     ]
    }
   ],
   "source": [
    "#计算第二年第一季度生产排名并保存excel\n",
    "start_date = 365*1+1\n",
    "end_date = start_date+89\n",
    "\n",
    "# 获取最大值大于end_date的井号\n",
    "hashtags = grouped[grouped >= end_date].index.tolist()\n",
    "# 获取原始DataFrame中包含在hashtags中的所有数据  \n",
    "filtered_df = df_sorted[df_sorted['井号'].isin(hashtags)]  \n",
    "\n",
    "\n",
    "df_3 = filtered_df[(filtered_df['生产天数'] <= end_date)]\n",
    "\n",
    "df_0201 = df_3\n",
    "df_0201['排名'] = None\n",
    "\n",
    "for i in range(1,end_date+1) :        \n",
    "    df_cl = df_0201[df_0201.生产天数==i]\n",
    "    pm = df_cl['历年累计产气量'].rank(method='first',ascending=False)\n",
    "    df_0201.loc[(df_0201['生产天数'] == i) & (df_0201['井号'].isin(df_cl.井号)),'排名'] = pm\n",
    "df_0201.to_csv('data/第二年一季度生产情况.csv', index=False) "
   ]
  },
  {
   "cell_type": "code",
   "execution_count": 50,
   "id": "c0c56425",
   "metadata": {},
   "outputs": [
    {
     "name": "stderr",
     "output_type": "stream",
     "text": [
      "C:\\Users\\Admin\\AppData\\Local\\Temp\\ipykernel_18792\\3198244345.py:14: SettingWithCopyWarning: \n",
      "A value is trying to be set on a copy of a slice from a DataFrame.\n",
      "Try using .loc[row_indexer,col_indexer] = value instead\n",
      "\n",
      "See the caveats in the documentation: https://pandas.pydata.org/pandas-docs/stable/user_guide/indexing.html#returning-a-view-versus-a-copy\n",
      "  df_0202['排名'] = None\n"
     ]
    }
   ],
   "source": [
    "#计算第二年第二季度生产排名并保存excel\n",
    "start_date = 365*1+90*1+1\n",
    "end_date = start_date+89\n",
    "\n",
    "# 获取最大值大于end_date的井号\n",
    "hashtags = grouped[grouped >= end_date].index.tolist()\n",
    "# 获取原始DataFrame中包含在hashtags中的所有数据  \n",
    "filtered_df = df_sorted[df_sorted['井号'].isin(hashtags)]  \n",
    "\n",
    "\n",
    "df_3 = filtered_df[(filtered_df['生产天数'] <= end_date)]\n",
    "\n",
    "df_0202 = df_3\n",
    "df_0202['排名'] = None\n",
    "\n",
    "for i in range(1,end_date+1) :        \n",
    "    df_cl = df_0202[df_0202.生产天数==i]\n",
    "    pm = df_cl['历年累计产气量'].rank(method='first',ascending=False)\n",
    "    df_0202.loc[(df_0202['生产天数'] == i) & (df_0202['井号'].isin(df_cl.井号)),'排名'] = pm\n",
    "df_0202.to_csv('data/第二年二季度生产情况.csv', index=False) "
   ]
  },
  {
   "cell_type": "code",
   "execution_count": 51,
   "id": "b288a426",
   "metadata": {},
   "outputs": [
    {
     "name": "stderr",
     "output_type": "stream",
     "text": [
      "C:\\Users\\Admin\\AppData\\Local\\Temp\\ipykernel_18792\\642380354.py:14: SettingWithCopyWarning: \n",
      "A value is trying to be set on a copy of a slice from a DataFrame.\n",
      "Try using .loc[row_indexer,col_indexer] = value instead\n",
      "\n",
      "See the caveats in the documentation: https://pandas.pydata.org/pandas-docs/stable/user_guide/indexing.html#returning-a-view-versus-a-copy\n",
      "  df_0203['排名'] = None\n"
     ]
    }
   ],
   "source": [
    "#计算第二年第三季度生产排名并保存excel\n",
    "start_date = 365*1+90*2+1\n",
    "end_date = start_date+89\n",
    "\n",
    "# 获取最大值大于end_date的井号\n",
    "hashtags = grouped[grouped >= end_date].index.tolist()\n",
    "# 获取原始DataFrame中包含在hashtags中的所有数据  \n",
    "filtered_df = df_sorted[df_sorted['井号'].isin(hashtags)]  \n",
    "\n",
    "\n",
    "df_3 = filtered_df[(filtered_df['生产天数'] <= end_date)]\n",
    "\n",
    "df_0203 = df_3\n",
    "df_0203['排名'] = None\n",
    "\n",
    "for i in range(1,end_date+1) :        \n",
    "    df_cl = df_0203[df_0203.生产天数==i]\n",
    "    pm = df_cl['历年累计产气量'].rank(method='first',ascending=False)\n",
    "    df_0203.loc[(df_0203['生产天数'] == i) & (df_0203['井号'].isin(df_cl.井号)),'排名'] = pm\n",
    "df_0203.to_csv('data/第二年三季度生产情况.csv', index=False) "
   ]
  },
  {
   "cell_type": "code",
   "execution_count": 52,
   "id": "60271c30",
   "metadata": {},
   "outputs": [
    {
     "name": "stderr",
     "output_type": "stream",
     "text": [
      "C:\\Users\\Admin\\AppData\\Local\\Temp\\ipykernel_18792\\1728116356.py:14: SettingWithCopyWarning: \n",
      "A value is trying to be set on a copy of a slice from a DataFrame.\n",
      "Try using .loc[row_indexer,col_indexer] = value instead\n",
      "\n",
      "See the caveats in the documentation: https://pandas.pydata.org/pandas-docs/stable/user_guide/indexing.html#returning-a-view-versus-a-copy\n",
      "  df_0204['排名'] = None\n"
     ]
    }
   ],
   "source": [
    "#计算第二年第四季度生产排名并保存excel\n",
    "start_date = 365*1+90*3+1\n",
    "end_date = 365*2\n",
    "\n",
    "# 获取最大值大于end_date的井号\n",
    "hashtags = grouped[grouped >= end_date].index.tolist()\n",
    "# 获取原始DataFrame中包含在hashtags中的所有数据  \n",
    "filtered_df = df_sorted[df_sorted['井号'].isin(hashtags)]  \n",
    "\n",
    "\n",
    "df_3 = filtered_df[(filtered_df['生产天数'] <= end_date)]\n",
    "\n",
    "df_0204 = df_3\n",
    "df_0204['排名'] = None\n",
    "\n",
    "for i in range(1,end_date+1) :        \n",
    "    df_cl = df_0204[df_0204.生产天数==i]\n",
    "    pm = df_cl['历年累计产气量'].rank(method='first',ascending=False)\n",
    "    df_0204.loc[(df_0204['生产天数'] == i) & (df_0204['井号'].isin(df_cl.井号)),'排名'] = pm\n",
    "df_0204.to_csv('data/第二年四季度生产情况.csv', index=False) "
   ]
  },
  {
   "cell_type": "code",
   "execution_count": 53,
   "id": "262a9805",
   "metadata": {},
   "outputs": [
    {
     "name": "stderr",
     "output_type": "stream",
     "text": [
      "C:\\Users\\Admin\\AppData\\Local\\Temp\\ipykernel_18792\\1590371442.py:14: SettingWithCopyWarning: \n",
      "A value is trying to be set on a copy of a slice from a DataFrame.\n",
      "Try using .loc[row_indexer,col_indexer] = value instead\n",
      "\n",
      "See the caveats in the documentation: https://pandas.pydata.org/pandas-docs/stable/user_guide/indexing.html#returning-a-view-versus-a-copy\n",
      "  df_0301['排名'] = None\n"
     ]
    }
   ],
   "source": [
    "#计算第三年第一季度生产排名并保存excel\n",
    "start_date = 365*2+1\n",
    "end_date = start_date+89\n",
    "\n",
    "# 获取最大值大于end_date的井号\n",
    "hashtags = grouped[grouped >= end_date].index.tolist()\n",
    "# 获取原始DataFrame中包含在hashtags中的所有数据  \n",
    "filtered_df = df_sorted[df_sorted['井号'].isin(hashtags)]  \n",
    "\n",
    "\n",
    "df_3 = filtered_df[(filtered_df['生产天数'] <= end_date)]\n",
    "\n",
    "df_0301 = df_3\n",
    "df_0301['排名'] = None\n",
    "\n",
    "for i in range(1,end_date+1) :        \n",
    "    df_cl = df_0301[df_0301.生产天数==i]\n",
    "    pm = df_cl['历年累计产气量'].rank(method='first',ascending=False)\n",
    "    df_0301.loc[(df_0301['生产天数'] == i) & (df_0301['井号'].isin(df_cl.井号)),'排名'] = pm\n",
    "df_0301.to_csv('data/第三年一季度生产情况.csv', index=False) "
   ]
  },
  {
   "cell_type": "code",
   "execution_count": 54,
   "id": "914d7d5f",
   "metadata": {},
   "outputs": [
    {
     "name": "stderr",
     "output_type": "stream",
     "text": [
      "C:\\Users\\Admin\\AppData\\Local\\Temp\\ipykernel_18792\\1276912404.py:14: SettingWithCopyWarning: \n",
      "A value is trying to be set on a copy of a slice from a DataFrame.\n",
      "Try using .loc[row_indexer,col_indexer] = value instead\n",
      "\n",
      "See the caveats in the documentation: https://pandas.pydata.org/pandas-docs/stable/user_guide/indexing.html#returning-a-view-versus-a-copy\n",
      "  df_0302['排名'] = None\n"
     ]
    }
   ],
   "source": [
    "#计算第三年第二季度生产排名并保存excel\n",
    "start_date = 365*2+90*1+1\n",
    "end_date = start_date+89\n",
    "\n",
    "# 获取最大值大于end_date的井号\n",
    "hashtags = grouped[grouped >= end_date].index.tolist()\n",
    "# 获取原始DataFrame中包含在hashtags中的所有数据  \n",
    "filtered_df = df_sorted[df_sorted['井号'].isin(hashtags)]  \n",
    "\n",
    "\n",
    "df_3 = filtered_df[(filtered_df['生产天数'] <= end_date)]\n",
    "\n",
    "df_0302 = df_3\n",
    "df_0302['排名'] = None\n",
    "\n",
    "for i in range(1,end_date+1) :        \n",
    "    df_cl = df_0302[df_0302.生产天数==i]\n",
    "    pm = df_cl['历年累计产气量'].rank(method='first',ascending=False)\n",
    "    df_0302.loc[(df_0302['生产天数'] == i) & (df_0302['井号'].isin(df_cl.井号)),'排名'] = pm\n",
    "df_0302.to_csv('data/第三年二季度生产情况.csv', index=False) "
   ]
  },
  {
   "cell_type": "code",
   "execution_count": 55,
   "id": "eed681bc",
   "metadata": {},
   "outputs": [
    {
     "name": "stderr",
     "output_type": "stream",
     "text": [
      "C:\\Users\\Admin\\AppData\\Local\\Temp\\ipykernel_18792\\832134848.py:14: SettingWithCopyWarning: \n",
      "A value is trying to be set on a copy of a slice from a DataFrame.\n",
      "Try using .loc[row_indexer,col_indexer] = value instead\n",
      "\n",
      "See the caveats in the documentation: https://pandas.pydata.org/pandas-docs/stable/user_guide/indexing.html#returning-a-view-versus-a-copy\n",
      "  df_0303['排名'] = None\n"
     ]
    }
   ],
   "source": [
    "#计算第三年第三季度生产排名并保存excel\n",
    "start_date = 365*2+90*2+1\n",
    "end_date = start_date+89\n",
    "\n",
    "# 获取最大值大于end_date的井号\n",
    "hashtags = grouped[grouped >= end_date].index.tolist()\n",
    "# 获取原始DataFrame中包含在hashtags中的所有数据  \n",
    "filtered_df = df_sorted[df_sorted['井号'].isin(hashtags)]  \n",
    "\n",
    "\n",
    "df_3 = filtered_df[(filtered_df['生产天数'] <= end_date)]\n",
    "\n",
    "df_0303 = df_3\n",
    "df_0303['排名'] = None\n",
    "\n",
    "for i in range(1,end_date+1) :        \n",
    "    df_cl = df_0303[df_0303.生产天数==i]\n",
    "    pm = df_cl['历年累计产气量'].rank(method='first')\n",
    "    df_0303.loc[(df_0303['生产天数'] == i) & (df_0303['井号'].isin(df_cl.井号)),'排名'] = pm\n",
    "df_0303.to_csv('data/第三年三季度生产情况.csv', index=False) "
   ]
  },
  {
   "cell_type": "code",
   "execution_count": 56,
   "id": "ad000e5b",
   "metadata": {},
   "outputs": [
    {
     "name": "stderr",
     "output_type": "stream",
     "text": [
      "C:\\Users\\Admin\\AppData\\Local\\Temp\\ipykernel_18792\\3254459089.py:14: SettingWithCopyWarning: \n",
      "A value is trying to be set on a copy of a slice from a DataFrame.\n",
      "Try using .loc[row_indexer,col_indexer] = value instead\n",
      "\n",
      "See the caveats in the documentation: https://pandas.pydata.org/pandas-docs/stable/user_guide/indexing.html#returning-a-view-versus-a-copy\n",
      "  df_0304['排名'] = None\n"
     ]
    }
   ],
   "source": [
    "#计算第三年第四季度生产排名并保存excel\n",
    "start_date = 365*2+90*3+1\n",
    "end_date = 365*3\n",
    "\n",
    "# 获取最大值大于end_date的井号\n",
    "hashtags = grouped[grouped >= end_date].index.tolist()\n",
    "# 获取原始DataFrame中包含在hashtags中的所有数据  \n",
    "filtered_df = df_sorted[df_sorted['井号'].isin(hashtags)]  \n",
    "\n",
    "\n",
    "df_3 = filtered_df[(filtered_df['生产天数'] <= end_date)]\n",
    "\n",
    "df_0304 = df_3\n",
    "df_0304['排名'] = None\n",
    "\n",
    "for i in range(1,end_date+1) :        \n",
    "    df_cl = df_0304[df_0304.生产天数==i]\n",
    "    pm = df_cl['历年累计产气量'].rank(method='first',ascending=False)\n",
    "    df_0304.loc[(df_0304['生产天数'] == i) & (df_0304['井号'].isin(df_cl.井号)),'排名'] = pm\n",
    "df_0304.to_csv('data/第三年四季度生产情况.csv', index=False) "
   ]
  },
  {
   "cell_type": "code",
   "execution_count": 57,
   "id": "4623315f",
   "metadata": {},
   "outputs": [
    {
     "name": "stderr",
     "output_type": "stream",
     "text": [
      "C:\\Users\\Admin\\AppData\\Local\\Temp\\ipykernel_18792\\1712377676.py:14: SettingWithCopyWarning: \n",
      "A value is trying to be set on a copy of a slice from a DataFrame.\n",
      "Try using .loc[row_indexer,col_indexer] = value instead\n",
      "\n",
      "See the caveats in the documentation: https://pandas.pydata.org/pandas-docs/stable/user_guide/indexing.html#returning-a-view-versus-a-copy\n",
      "  df_04['排名'] = None\n"
     ]
    }
   ],
   "source": [
    "#计算第四年生产排名并保存excel\n",
    "start_date = 365*3+1\n",
    "end_date = 365*4\n",
    "\n",
    "# 获取最大值大于end_date的井号\n",
    "hashtags = grouped[grouped >= end_date].index.tolist()\n",
    "# 获取原始DataFrame中包含在hashtags中的所有数据  \n",
    "filtered_df = df_sorted[df_sorted['井号'].isin(hashtags)]  \n",
    "\n",
    "\n",
    "df_3 = filtered_df[(filtered_df['生产天数'] <= end_date)]\n",
    "\n",
    "df_04 = df_3\n",
    "df_04['排名'] = None\n",
    "\n",
    "for i in range(1,end_date+1) :        \n",
    "    df_cl = df_04[df_04.生产天数==i]\n",
    "    pm = df_cl['历年累计产气量'].rank(method='first',ascending=False)\n",
    "    df_04.loc[(df_04['生产天数'] == i) & (df_04['井号'].isin(df_cl.井号)),'排名'] = pm\n",
    "df_04.to_csv('data/第四年生产情况.csv', index=False) "
   ]
  },
  {
   "cell_type": "code",
   "execution_count": 58,
   "id": "dca0e5b2",
   "metadata": {},
   "outputs": [
    {
     "name": "stderr",
     "output_type": "stream",
     "text": [
      "C:\\Users\\Admin\\AppData\\Local\\Temp\\ipykernel_18792\\4291570714.py:14: SettingWithCopyWarning: \n",
      "A value is trying to be set on a copy of a slice from a DataFrame.\n",
      "Try using .loc[row_indexer,col_indexer] = value instead\n",
      "\n",
      "See the caveats in the documentation: https://pandas.pydata.org/pandas-docs/stable/user_guide/indexing.html#returning-a-view-versus-a-copy\n",
      "  df_05['排名'] = None\n"
     ]
    }
   ],
   "source": [
    "#计算第五年生产排名并保存excel\n",
    "start_date = 365*4+1\n",
    "end_date = 365*5\n",
    "\n",
    "# 获取最大值大于end_date的井号\n",
    "hashtags = grouped[grouped >= end_date].index.tolist()\n",
    "# 获取原始DataFrame中包含在hashtags中的所有数据  \n",
    "filtered_df = df_sorted[df_sorted['井号'].isin(hashtags)]  \n",
    "\n",
    "\n",
    "df_3 = filtered_df[(filtered_df['生产天数'] <= end_date)]\n",
    "\n",
    "df_05 = df_3\n",
    "df_05['排名'] = None\n",
    "\n",
    "for i in range(1,end_date+1) :        \n",
    "    df_cl = df_05[df_05.生产天数==i]\n",
    "    pm = df_cl['历年累计产气量'].rank(method='first',ascending=False)\n",
    "    df_05.loc[(df_05['生产天数'] == i) & (df_05['井号'].isin(df_cl.井号)),'排名'] = pm\n",
    "df_05.to_csv('data/第五年生产情况.csv', index=False) "
   ]
  },
  {
   "cell_type": "code",
   "execution_count": 59,
   "id": "caf99930",
   "metadata": {},
   "outputs": [
    {
     "name": "stderr",
     "output_type": "stream",
     "text": [
      "C:\\Users\\Admin\\AppData\\Local\\Temp\\ipykernel_18792\\2507419538.py:14: SettingWithCopyWarning: \n",
      "A value is trying to be set on a copy of a slice from a DataFrame.\n",
      "Try using .loc[row_indexer,col_indexer] = value instead\n",
      "\n",
      "See the caveats in the documentation: https://pandas.pydata.org/pandas-docs/stable/user_guide/indexing.html#returning-a-view-versus-a-copy\n",
      "  df_06['排名'] = None\n"
     ]
    }
   ],
   "source": [
    "#计算第六年生产排名并保存excel\n",
    "start_date = 365*5+1\n",
    "end_date = 365*6\n",
    "\n",
    "# 获取最大值大于end_date的井号\n",
    "hashtags = grouped[grouped >= end_date].index.tolist()\n",
    "# 获取原始DataFrame中包含在hashtags中的所有数据  \n",
    "filtered_df = df_sorted[df_sorted['井号'].isin(hashtags)]  \n",
    "\n",
    "\n",
    "df_3 = filtered_df[(filtered_df['生产天数'] <= end_date)]\n",
    "\n",
    "df_06 = df_3\n",
    "df_06['排名'] = None\n",
    "\n",
    "for i in range(1,end_date+1) :        \n",
    "    df_cl = df_06[df_06.生产天数==i]\n",
    "    pm = df_cl['历年累计产气量'].rank(method='first',ascending=False)\n",
    "    df_06.loc[(df_06['生产天数'] == i) & (df_06['井号'].isin(df_cl.井号)),'排名'] = pm\n",
    "df_06.to_csv('data/第六年生产情况.csv', index=False) "
   ]
  },
  {
   "cell_type": "code",
   "execution_count": null,
   "id": "d84d3ab2",
   "metadata": {},
   "outputs": [],
   "source": []
  }
 ],
 "metadata": {
  "kernelspec": {
   "display_name": "Python 3 (ipykernel)",
   "language": "python",
   "name": "python3"
  },
  "language_info": {
   "codemirror_mode": {
    "name": "ipython",
    "version": 3
   },
   "file_extension": ".py",
   "mimetype": "text/x-python",
   "name": "python",
   "nbconvert_exporter": "python",
   "pygments_lexer": "ipython3",
   "version": "3.8.18"
  }
 },
 "nbformat": 4,
 "nbformat_minor": 5
}
